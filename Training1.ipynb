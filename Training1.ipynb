{
  "nbformat": 4,
  "nbformat_minor": 0,
  "metadata": {
    "colab": {
      "provenance": [],
      "authorship_tag": "ABX9TyOOg9Q8oYpJ07G2171pGWrp",
      "include_colab_link": true
    },
    "kernelspec": {
      "name": "python3",
      "display_name": "Python 3"
    },
    "language_info": {
      "name": "python"
    }
  },
  "cells": [
    {
      "cell_type": "markdown",
      "metadata": {
        "id": "view-in-github",
        "colab_type": "text"
      },
      "source": [
        "<a href=\"https://colab.research.google.com/github/charlotteesharpp/IMLO-project/blob/main/Training1.ipynb\" target=\"_parent\"><img src=\"https://colab.research.google.com/assets/colab-badge.svg\" alt=\"Open In Colab\"/></a>"
      ]
    },
    {
      "cell_type": "markdown",
      "metadata": {
        "id": "Nyuo0eaUrAAv"
      },
      "source": [
        "Connecting to google drive in order to save and load the model features"
      ]
    },
    {
      "cell_type": "code",
      "execution_count": 1,
      "metadata": {
        "id": "kJVztRdvrGs8",
        "colab": {
          "base_uri": "https://localhost:8080/"
        },
        "outputId": "ef49c221-768d-4ea7-b8bd-eb7a6f335a1f"
      },
      "outputs": [
        {
          "output_type": "stream",
          "name": "stdout",
          "text": [
            "Mounted at /content/drive/\n"
          ]
        }
      ],
      "source": [
        "from google.colab import drive\n",
        "drive.mount('/content/drive/')"
      ]
    },
    {
      "cell_type": "markdown",
      "metadata": {
        "id": "gFffJeMD0gzq"
      },
      "source": [
        "All imports needed"
      ]
    },
    {
      "cell_type": "code",
      "execution_count": 2,
      "metadata": {
        "id": "0qgh74v_0i02"
      },
      "outputs": [],
      "source": [
        "import torch\n",
        "import torch.nn as nn\n",
        "import torch.optim as optim\n",
        "from torchvision import transforms, datasets\n",
        "from torch.utils.data import DataLoader\n",
        "import time"
      ]
    },
    {
      "cell_type": "markdown",
      "metadata": {
        "id": "uFHNHIJO0m2K"
      },
      "source": [
        "Transformations for loading the data into sets:\n",
        "* Training: augmentation to improve the accuracy\n",
        "* Validation and Testing: no augemtation"
      ]
    },
    {
      "cell_type": "code",
      "execution_count": 3,
      "metadata": {
        "id": "hnjTytlz03Dg"
      },
      "outputs": [],
      "source": [
        "# Define the transform to preprocess the images for the training data\n",
        "train_transform = transforms.Compose([\n",
        "    transforms.Resize((224, 224)),  # Resize the images to 224x224\n",
        "    transforms.RandomHorizontalFlip(),  # Randomly flip images horizontally\n",
        "    transforms.RandomRotation(15),  # Randomly rotate images in the range\n",
        "    transforms.ColorJitter(brightness=0.1, contrast=0.1, saturation=0.1, hue=0.1),  #chnage the brightness\n",
        "    transforms.RandomCrop(224, padding=4, padding_mode='reflect'),  # Randomly crop images padded by 4 pixels on each side\n",
        "    transforms.ToTensor(),  # Convert images to PyTorch tensors\n",
        "    transforms.Normalize(mean=[0.485, 0.456, 0.406], std=[0.229, 0.224, 0.225]),  # Normalise the images\n",
        "])\n",
        "\n",
        "#for the test and validation sets\n",
        "test_transform = transforms.Compose([\n",
        "    transforms.Resize((224, 224)),\n",
        "    transforms.ToTensor(),\n",
        "    transforms.Normalize(mean=[0.485, 0.456, 0.406], std=[0.229, 0.224, 0.225]),\n",
        "])"
      ]
    },
    {
      "cell_type": "markdown",
      "metadata": {
        "id": "lAVP2JZg0695"
      },
      "source": [
        "Load in the data, apply the transformations and place in dataloaders"
      ]
    },
    {
      "cell_type": "code",
      "execution_count": 4,
      "metadata": {
        "id": "zcE8jw6j1Df5",
        "colab": {
          "base_uri": "https://localhost:8080/"
        },
        "outputId": "924540a3-a763-4922-ac27-164a7a124362"
      },
      "outputs": [
        {
          "output_type": "stream",
          "name": "stdout",
          "text": [
            "Downloading https://thor.robots.ox.ac.uk/datasets/flowers-102/102flowers.tgz to data/flowers-102/102flowers.tgz\n"
          ]
        },
        {
          "output_type": "stream",
          "name": "stderr",
          "text": [
            "100%|██████████| 344862509/344862509 [00:09<00:00, 34759907.74it/s]\n"
          ]
        },
        {
          "output_type": "stream",
          "name": "stdout",
          "text": [
            "Extracting data/flowers-102/102flowers.tgz to data/flowers-102\n",
            "Downloading https://thor.robots.ox.ac.uk/datasets/flowers-102/imagelabels.mat to data/flowers-102/imagelabels.mat\n"
          ]
        },
        {
          "output_type": "stream",
          "name": "stderr",
          "text": [
            "100%|██████████| 502/502 [00:00<00:00, 1428453.60it/s]\n"
          ]
        },
        {
          "output_type": "stream",
          "name": "stdout",
          "text": [
            "Downloading https://thor.robots.ox.ac.uk/datasets/flowers-102/setid.mat to data/flowers-102/setid.mat\n"
          ]
        },
        {
          "output_type": "stream",
          "name": "stderr",
          "text": [
            "100%|██████████| 14989/14989 [00:00<00:00, 19120566.50it/s]\n"
          ]
        }
      ],
      "source": [
        "# Load the dataset (you will need to specify the path to your dataset)\n",
        "train_dataset = datasets.Flowers102(\n",
        "    root=\"data\",\n",
        "    split=\"train\",\n",
        "    transform=train_transform,\n",
        "    download=True,\n",
        ")\n",
        "test_dataset = datasets.Flowers102(\n",
        "    root=\"data\",\n",
        "    split=\"test\",\n",
        "    transform=test_transform,\n",
        "    download=True,\n",
        ")\n",
        "\n",
        "val_dataset = datasets.Flowers102(\n",
        "    root=\"data\",\n",
        "    split=\"val\",\n",
        "    transform=test_transform,\n",
        "    download=True,\n",
        ")\n",
        "\n",
        "# Create data loaders\n",
        "train_loader = DataLoader(train_dataset, batch_size=32, shuffle=True)\n",
        "test_loader = DataLoader(test_dataset, batch_size=32, shuffle=False)\n",
        "val_loader = DataLoader(val_dataset, batch_size=32, shuffle=False)"
      ]
    },
    {
      "cell_type": "markdown",
      "metadata": {
        "id": "t21AOYWo1GxA"
      },
      "source": [
        "Define a CNN architecture"
      ]
    },
    {
      "cell_type": "code",
      "execution_count": 5,
      "metadata": {
        "id": "zSVDNSfZ1Lyo"
      },
      "outputs": [],
      "source": [
        "class FlowerClassifier(nn.Module):\n",
        "    def __init__(self):\n",
        "        super(FlowerClassifier, self).__init__()\n",
        "        self.conv1 = nn.Conv2d(3, 32, kernel_size=3, padding=1)\n",
        "        self.bn1 = nn.BatchNorm2d(32)\n",
        "        self.conv2 = nn.Conv2d(32, 64, kernel_size=3, padding=1)\n",
        "        self.bn2 = nn.BatchNorm2d(64)\n",
        "        self.conv3 = nn.Conv2d(64, 128, kernel_size=3, padding=1)\n",
        "        self.bn3 = nn.BatchNorm2d(128)\n",
        "        self.pool = nn.MaxPool2d(kernel_size=2, stride=2)\n",
        "        self.fc1 = nn.Linear(128 * 28 * 28, 2048)\n",
        "        self.fc2 = nn.Linear(2048, 1024)\n",
        "        self.fc3 = nn.Linear(1024, 512)\n",
        "        self.fc4 = nn.Linear(512, 102)\n",
        "\n",
        "    def forward(self, x):\n",
        "        x = self.bn1(torch.relu(self.conv1(x)))\n",
        "        x = self.pool(x)\n",
        "        x = self.bn2(torch.relu(self.conv2(x)))\n",
        "        x = self.pool(x)\n",
        "        x = self.bn3(torch.relu(self.conv3(x)))\n",
        "        x = self.pool(x)\n",
        "        x = x.view(-1, 128 * 28 * 28)\n",
        "        x = torch.relu(self.fc1(x))\n",
        "        x = self.fc2(x)\n",
        "        return x"
      ]
    },
    {
      "cell_type": "markdown",
      "metadata": {
        "id": "HdYoHWzL1Tza"
      },
      "source": [
        "Initialise the model, loss function, and optimiser"
      ]
    },
    {
      "cell_type": "code",
      "execution_count": 6,
      "metadata": {
        "id": "tBmM8V2i1YBs"
      },
      "outputs": [],
      "source": [
        "model = FlowerClassifier()\n",
        "criterion = nn.CrossEntropyLoss()\n",
        "optimizer = optim.SGD(model.parameters(), lr=0.0001, momentum=0.9)"
      ]
    },
    {
      "cell_type": "markdown",
      "metadata": {
        "id": "bH8znMAZ1dki"
      },
      "source": [
        "Define training, validating and testing algoirthms"
      ]
    },
    {
      "cell_type": "code",
      "execution_count": 7,
      "metadata": {
        "id": "BkIx-6T_1hw8"
      },
      "outputs": [],
      "source": [
        "def train_model(model, train_loader, optimizer, criterion, epoch):\n",
        "    model.train()\n",
        "    for batch_idx, (images, labels) in enumerate(train_loader):\n",
        "        optimizer.zero_grad()\n",
        "        outputs = model(images)\n",
        "        loss = criterion(outputs, labels)\n",
        "        loss.backward()\n",
        "        optimizer.step()\n",
        "\n",
        "\n",
        "        if batch_idx % 100 == 0:\n",
        "            print(f\"Epoch [{epoch}/{num_epochs}]: Loss: {loss.item():.4f}\")\n",
        "\n",
        "def validate_model(model, val_loader, criterion):\n",
        "    model.eval()\n",
        "    val_loss = 0.0\n",
        "    with torch.no_grad():\n",
        "        for val_images, val_labels in val_loader:\n",
        "            val_outputs = model(val_images)\n",
        "            val_loss += criterion(val_outputs, val_labels).item()\n",
        "    return val_loss\n",
        "\n",
        "def test_model(model, test_loader):\n",
        "    model.eval()\n",
        "    correct = 0\n",
        "    total = 0\n",
        "    with torch.no_grad():\n",
        "        for test_images, test_labels in test_loader:\n",
        "            test_outputs = model(test_images)\n",
        "            _, predicted = torch.max(test_outputs, 1)\n",
        "            total += test_labels.size(0)\n",
        "            correct += (predicted == test_labels).sum().item()\n",
        "    accuracy = correct / total\n",
        "    return accuracy"
      ]
    },
    {
      "cell_type": "markdown",
      "metadata": {
        "id": "3Xs1hodj12AV"
      },
      "source": [
        "begin training the model"
      ]
    },
    {
      "cell_type": "code",
      "source": [
        "device = torch.device('cuda' if torch.cuda.is_available() else 'cpu')\n",
        "model = FlowerClassifier().to(device)\n",
        "model.load_state_dict(torch.load(\"/content/drive/MyDrive/models/flowersv2\"))"
      ],
      "metadata": {
        "id": "Nx1K_74eQsVd",
        "colab": {
          "base_uri": "https://localhost:8080/"
        },
        "outputId": "d2710e9c-ec00-46db-ce74-17cb6096cd2f"
      },
      "execution_count": 9,
      "outputs": [
        {
          "output_type": "execute_result",
          "data": {
            "text/plain": [
              "<All keys matched successfully>"
            ]
          },
          "metadata": {},
          "execution_count": 9
        }
      ]
    },
    {
      "cell_type": "code",
      "execution_count": 10,
      "metadata": {
        "id": "Lw74MjR01_jC",
        "colab": {
          "base_uri": "https://localhost:8080/"
        },
        "outputId": "e37ee115-7b47-4402-b0e0-32b998ab3a0e"
      },
      "outputs": [
        {
          "output_type": "stream",
          "name": "stdout",
          "text": [
            "Epoch [0/20]: Loss: 1.0859\n",
            "Validation Loss at Epoch 0: 83.5074\n",
            "Epoch [1/20]: Loss: 1.4680\n",
            "Epoch [2/20]: Loss: 0.9521\n",
            "Epoch [3/20]: Loss: 1.1916\n",
            "Epoch [4/20]: Loss: 0.9657\n",
            "Epoch [5/20]: Loss: 1.2613\n",
            "Validation Loss at Epoch 5: 83.4511\n",
            "Epoch [6/20]: Loss: 1.1049\n",
            "Epoch [7/20]: Loss: 1.3579\n",
            "Epoch [8/20]: Loss: 1.1827\n",
            "Epoch [9/20]: Loss: 0.9690\n",
            "Epoch [10/20]: Loss: 1.1070\n",
            "Validation Loss at Epoch 10: 83.5124\n",
            "Epoch [11/20]: Loss: 1.1021\n",
            "Epoch [12/20]: Loss: 0.9636\n",
            "Epoch [13/20]: Loss: 1.1426\n",
            "Epoch [14/20]: Loss: 0.8641\n",
            "Epoch [15/20]: Loss: 1.0321\n",
            "Validation Loss at Epoch 15: 83.5592\n",
            "Epoch [16/20]: Loss: 1.0616\n",
            "Epoch [17/20]: Loss: 0.9204\n",
            "Epoch [18/20]: Loss: 1.2426\n",
            "Epoch [19/20]: Loss: 1.4579\n",
            "Test Accuracy (top-1): 31.39%\n",
            "Finished Training. Total elapsed time: 105.2 min\n"
          ]
        }
      ],
      "source": [
        "num_epochs = 20\n",
        "start_time = time.time()\n",
        "\n",
        "for epoch in range(num_epochs):\n",
        "        train_model(model, train_loader, optimizer, criterion, epoch)\n",
        "        if epoch % 5 == 0:\n",
        "            val_loss = validate_model(model, val_loader, criterion)\n",
        "            print(f\"Validation Loss at Epoch {epoch}: {val_loss:.4f}\")\n",
        "\n",
        "test_accuracy = test_model(model, test_loader)\n",
        "print(f\"Test Accuracy (top-1): {100 * test_accuracy:.2f}%\")\n",
        "print(f\"Finished Training. Total elapsed time: {round((time.time() - start_time) / 60, 1)} min\")"
      ]
    },
    {
      "cell_type": "markdown",
      "metadata": {
        "id": "RfOtjPP52IU_"
      },
      "source": [
        "Save the model"
      ]
    },
    {
      "cell_type": "code",
      "execution_count": 11,
      "metadata": {
        "id": "ckgYAzlG2Jxz",
        "colab": {
          "base_uri": "https://localhost:8080/"
        },
        "outputId": "8a2b6ade-82c9-4dbc-9344-4202ec7e8518"
      },
      "outputs": [
        {
          "output_type": "stream",
          "name": "stdout",
          "text": [
            "Saved PyTorch Model State to path\n"
          ]
        }
      ],
      "source": [
        "torch.save(model.state_dict(), \"/content/drive/MyDrive/models/flowersv3\")\n",
        "print(\"Saved PyTorch Model State to path\")"
      ]
    },
    {
      "cell_type": "code",
      "source": [
        "device = torch.device('cuda' if torch.cuda.is_available() else 'cpu')\n",
        "model = FlowerClassifier().to(device)\n",
        "model.load_state_dict(torch.load(\"/content/drive/MyDrive/models/flowersv3\"))"
      ],
      "metadata": {
        "colab": {
          "base_uri": "https://localhost:8080/"
        },
        "id": "ssWK2yhDzC0w",
        "outputId": "b50a5e1a-beb3-4057-bd00-f8c48ba08b29"
      },
      "execution_count": 12,
      "outputs": [
        {
          "output_type": "execute_result",
          "data": {
            "text/plain": [
              "<All keys matched successfully>"
            ]
          },
          "metadata": {},
          "execution_count": 12
        }
      ]
    },
    {
      "cell_type": "code",
      "source": [
        "num_epochs = 20\n",
        "start_time = time.time()\n",
        "\n",
        "for epoch in range(num_epochs):\n",
        "        train_model(model, train_loader, optimizer, criterion, epoch)\n",
        "        if epoch % 5 == 0:\n",
        "            val_loss = validate_model(model, val_loader, criterion)\n",
        "            print(f\"Validation Loss at Epoch {epoch}: {val_loss:.4f}\")\n",
        "\n",
        "test_accuracy = test_model(model, test_loader)\n",
        "print(f\"Test Accuracy (top-1): {100 * test_accuracy:.2f}%\")\n",
        "print(f\"Finished Training. Total elapsed time: {round((time.time() - start_time) / 60, 1)} min\")"
      ],
      "metadata": {
        "colab": {
          "base_uri": "https://localhost:8080/"
        },
        "id": "y4TBgM7zzHEf",
        "outputId": "131973f0-83b4-4f86-d223-2abcdf4eb8c9"
      },
      "execution_count": 13,
      "outputs": [
        {
          "output_type": "stream",
          "name": "stdout",
          "text": [
            "Epoch [0/20]: Loss: 1.1113\n",
            "Validation Loss at Epoch 0: 83.5537\n",
            "Epoch [1/20]: Loss: 0.8210\n",
            "Epoch [2/20]: Loss: 1.1691\n",
            "Epoch [3/20]: Loss: 0.9349\n",
            "Epoch [4/20]: Loss: 1.0818\n",
            "Epoch [5/20]: Loss: 1.1262\n",
            "Validation Loss at Epoch 5: 83.5114\n",
            "Epoch [6/20]: Loss: 1.1110\n",
            "Epoch [7/20]: Loss: 0.9651\n",
            "Epoch [8/20]: Loss: 0.7923\n",
            "Epoch [9/20]: Loss: 1.2166\n",
            "Epoch [10/20]: Loss: 1.0721\n",
            "Validation Loss at Epoch 10: 83.3355\n",
            "Epoch [11/20]: Loss: 1.1073\n",
            "Epoch [12/20]: Loss: 1.0591\n",
            "Epoch [13/20]: Loss: 0.8029\n",
            "Epoch [14/20]: Loss: 1.0544\n",
            "Epoch [15/20]: Loss: 0.9996\n",
            "Validation Loss at Epoch 15: 83.5879\n",
            "Epoch [16/20]: Loss: 1.2971\n",
            "Epoch [17/20]: Loss: 1.2495\n",
            "Epoch [18/20]: Loss: 1.4472\n",
            "Epoch [19/20]: Loss: 0.9258\n",
            "Test Accuracy (top-1): 31.73%\n",
            "Finished Training. Total elapsed time: 105.2 min\n"
          ]
        }
      ]
    },
    {
      "cell_type": "code",
      "source": [
        "torch.save(model.state_dict(), \"/content/drive/MyDrive/models/flowersv4\")\n",
        "print(\"Saved PyTorch Model State to path\")"
      ],
      "metadata": {
        "colab": {
          "base_uri": "https://localhost:8080/"
        },
        "id": "7Dj72oS1zLvp",
        "outputId": "b4a79b9b-da52-48bd-8400-83490e3320b7"
      },
      "execution_count": 14,
      "outputs": [
        {
          "output_type": "stream",
          "name": "stdout",
          "text": [
            "Saved PyTorch Model State to path\n"
          ]
        }
      ]
    },
    {
      "cell_type": "code",
      "source": [
        "device = torch.device('cuda' if torch.cuda.is_available() else 'cpu')\n",
        "model = FlowerClassifier().to(device)\n",
        "model.load_state_dict(torch.load(\"/content/drive/MyDrive/models/flowersv4\"))"
      ],
      "metadata": {
        "colab": {
          "base_uri": "https://localhost:8080/"
        },
        "id": "aBnzkOENlr-0",
        "outputId": "c3285cbf-a648-40e6-d216-faeabd0430d8"
      },
      "execution_count": 15,
      "outputs": [
        {
          "output_type": "execute_result",
          "data": {
            "text/plain": [
              "<All keys matched successfully>"
            ]
          },
          "metadata": {},
          "execution_count": 15
        }
      ]
    },
    {
      "cell_type": "code",
      "source": [
        "num_epochs = 20\n",
        "start_time = time.time()\n",
        "\n",
        "for epoch in range(num_epochs):\n",
        "        train_model(model, train_loader, optimizer, criterion, epoch)\n",
        "        if epoch % 5 == 0:\n",
        "            val_loss = validate_model(model, val_loader, criterion)\n",
        "            print(f\"Validation Loss at Epoch {epoch}: {val_loss:.4f}\")\n",
        "\n",
        "test_accuracy = test_model(model, test_loader)\n",
        "print(f\"Test Accuracy (top-1): {100 * test_accuracy:.2f}%\")\n",
        "print(f\"Finished Training. Total elapsed time: {round((time.time() - start_time) / 60, 1)} min\")"
      ],
      "metadata": {
        "colab": {
          "base_uri": "https://localhost:8080/"
        },
        "id": "8oNp7Cjmlwzq",
        "outputId": "351136c1-5fed-4739-e670-f3500e58f7b6"
      },
      "execution_count": 16,
      "outputs": [
        {
          "output_type": "stream",
          "name": "stdout",
          "text": [
            "Epoch [0/20]: Loss: 0.8116\n",
            "Validation Loss at Epoch 0: 83.4801\n",
            "Epoch [1/20]: Loss: 1.1655\n",
            "Epoch [2/20]: Loss: 0.9491\n",
            "Epoch [3/20]: Loss: 0.7156\n",
            "Epoch [4/20]: Loss: 1.0034\n",
            "Epoch [5/20]: Loss: 1.2216\n",
            "Validation Loss at Epoch 5: 83.5812\n",
            "Epoch [6/20]: Loss: 1.2560\n",
            "Epoch [7/20]: Loss: 1.1694\n",
            "Epoch [8/20]: Loss: 1.5422\n",
            "Epoch [9/20]: Loss: 0.8634\n",
            "Epoch [10/20]: Loss: 1.3712\n",
            "Validation Loss at Epoch 10: 83.3877\n",
            "Epoch [11/20]: Loss: 1.2201\n",
            "Epoch [12/20]: Loss: 0.9769\n",
            "Epoch [13/20]: Loss: 1.1209\n",
            "Epoch [14/20]: Loss: 1.2657\n",
            "Epoch [15/20]: Loss: 1.2179\n",
            "Validation Loss at Epoch 15: 83.3774\n",
            "Epoch [16/20]: Loss: 1.0934\n",
            "Epoch [17/20]: Loss: 1.0720\n",
            "Epoch [18/20]: Loss: 1.0935\n",
            "Epoch [19/20]: Loss: 1.0336\n",
            "Test Accuracy (top-1): 31.42%\n",
            "Finished Training. Total elapsed time: 106.5 min\n"
          ]
        }
      ]
    },
    {
      "cell_type": "code",
      "source": [
        "torch.save(model.state_dict(), \"/content/drive/MyDrive/models/flowersv5\")\n",
        "print(\"Saved PyTorch Model State to path\")"
      ],
      "metadata": {
        "colab": {
          "base_uri": "https://localhost:8080/"
        },
        "id": "JOpbharTl1nN",
        "outputId": "bf4836bf-74e8-4a4a-f885-618678180348"
      },
      "execution_count": 17,
      "outputs": [
        {
          "output_type": "stream",
          "name": "stdout",
          "text": [
            "Saved PyTorch Model State to path\n"
          ]
        }
      ]
    },
    {
      "cell_type": "code",
      "source": [
        "device = torch.device('cuda' if torch.cuda.is_available() else 'cpu')\n",
        "model = FlowerClassifier().to(device)\n",
        "model.load_state_dict(torch.load(\"/content/drive/MyDrive/models/flowersv5\"))"
      ],
      "metadata": {
        "colab": {
          "base_uri": "https://localhost:8080/"
        },
        "id": "UjitDEGS_HOM",
        "outputId": "e834d359-aa60-46e4-ce77-b500add2fcfe"
      },
      "execution_count": 18,
      "outputs": [
        {
          "output_type": "execute_result",
          "data": {
            "text/plain": [
              "<All keys matched successfully>"
            ]
          },
          "metadata": {},
          "execution_count": 18
        }
      ]
    },
    {
      "cell_type": "code",
      "source": [
        "num_epochs = 10\n",
        "start_time = time.time()\n",
        "\n",
        "for epoch in range(num_epochs):\n",
        "        train_model(model, train_loader, optimizer, criterion, epoch)\n",
        "        if epoch % 5 == 0:\n",
        "            val_loss = validate_model(model, val_loader, criterion)\n",
        "            print(f\"Validation Loss at Epoch {epoch}: {val_loss:.4f}\")\n",
        "\n",
        "test_accuracy = test_model(model, test_loader)\n",
        "print(f\"Test Accuracy (top-1): {100 * test_accuracy:.2f}%\")\n",
        "print(f\"Finished Training. Total elapsed time: {round((time.time() - start_time) / 60, 1)} min\")"
      ],
      "metadata": {
        "colab": {
          "base_uri": "https://localhost:8080/"
        },
        "id": "WzIN_Dja_Net",
        "outputId": "de32f7a8-d2fe-4980-90f4-797f49e605e1"
      },
      "execution_count": 19,
      "outputs": [
        {
          "output_type": "stream",
          "name": "stdout",
          "text": [
            "Epoch [0/10]: Loss: 1.2072\n",
            "Validation Loss at Epoch 0: 83.2645\n",
            "Epoch [1/10]: Loss: 1.1150\n",
            "Epoch [2/10]: Loss: 0.9857\n",
            "Epoch [3/10]: Loss: 1.1735\n",
            "Epoch [4/10]: Loss: 1.0973\n",
            "Epoch [5/10]: Loss: 1.1349\n",
            "Validation Loss at Epoch 5: 83.5185\n",
            "Epoch [6/10]: Loss: 1.0231\n",
            "Epoch [7/10]: Loss: 1.1342\n",
            "Epoch [8/10]: Loss: 1.0463\n",
            "Epoch [9/10]: Loss: 0.9220\n",
            "Test Accuracy (top-1): 31.63%\n",
            "Finished Training. Total elapsed time: 58.8 min\n"
          ]
        }
      ]
    },
    {
      "cell_type": "code",
      "source": [
        "torch.save(model.state_dict(), \"/content/drive/MyDrive/models/flowersv6\")\n",
        "print(\"Saved PyTorch Model State to path\")"
      ],
      "metadata": {
        "colab": {
          "base_uri": "https://localhost:8080/"
        },
        "id": "Sqfm97P5_Rnj",
        "outputId": "388f9a12-6bea-4c34-bd92-ecd7250f20b9"
      },
      "execution_count": 20,
      "outputs": [
        {
          "output_type": "stream",
          "name": "stdout",
          "text": [
            "Saved PyTorch Model State to path\n"
          ]
        }
      ]
    },
    {
      "cell_type": "code",
      "source": [
        "device = torch.device('cuda' if torch.cuda.is_available() else 'cpu')\n",
        "model = FlowerClassifier().to(device)\n",
        "model.load_state_dict(torch.load(\"/content/drive/MyDrive/models/flowersv6\"))"
      ],
      "metadata": {
        "colab": {
          "base_uri": "https://localhost:8080/"
        },
        "id": "tmAjbfANNHv0",
        "outputId": "e430b5ab-ed9a-4560-97ad-e7c3462c3572"
      },
      "execution_count": 21,
      "outputs": [
        {
          "output_type": "execute_result",
          "data": {
            "text/plain": [
              "<All keys matched successfully>"
            ]
          },
          "metadata": {},
          "execution_count": 21
        }
      ]
    },
    {
      "cell_type": "code",
      "source": [
        "num_epochs = 10\n",
        "start_time = time.time()\n",
        "\n",
        "for epoch in range(num_epochs):\n",
        "        train_model(model, train_loader, optimizer, criterion, epoch)\n",
        "        if epoch % 5 == 0:\n",
        "            val_loss = validate_model(model, val_loader, criterion)\n",
        "            print(f\"Validation Loss at Epoch {epoch}: {val_loss:.4f}\")\n",
        "\n",
        "test_accuracy = test_model(model, test_loader)\n",
        "print(f\"Test Accuracy (top-1): {100 * test_accuracy:.2f}%\")\n",
        "print(f\"Finished Training. Total elapsed time: {round((time.time() - start_time) / 60, 1)} min\")"
      ],
      "metadata": {
        "colab": {
          "base_uri": "https://localhost:8080/"
        },
        "id": "zUCU3zRFNQeH",
        "outputId": "682df40c-a449-4c00-a76f-fb1559d501be"
      },
      "execution_count": 22,
      "outputs": [
        {
          "output_type": "stream",
          "name": "stdout",
          "text": [
            "Epoch [0/10]: Loss: 1.0165\n",
            "Validation Loss at Epoch 0: 83.3024\n",
            "Epoch [1/10]: Loss: 1.1423\n",
            "Epoch [2/10]: Loss: 1.0977\n",
            "Epoch [3/10]: Loss: 1.1195\n",
            "Epoch [4/10]: Loss: 1.1578\n",
            "Epoch [5/10]: Loss: 0.9420\n",
            "Validation Loss at Epoch 5: 83.5065\n",
            "Epoch [6/10]: Loss: 0.8561\n",
            "Epoch [7/10]: Loss: 1.1503\n",
            "Epoch [8/10]: Loss: 1.2404\n",
            "Epoch [9/10]: Loss: 1.0263\n",
            "Test Accuracy (top-1): 31.48%\n",
            "Finished Training. Total elapsed time: 59.5 min\n"
          ]
        }
      ]
    },
    {
      "cell_type": "code",
      "source": [
        "torch.save(model.state_dict(), \"/content/drive/MyDrive/models/model_weights\")\n",
        "print(\"Saved PyTorch Model State to path\")"
      ],
      "metadata": {
        "id": "pup2nsciNTI-"
      },
      "execution_count": null,
      "outputs": []
    },
    {
      "cell_type": "markdown",
      "source": [
        "training block 1:\n",
        "* Test Accuracy (top-1): 31.45%\n",
        "* Total elapsed time: 86.8 min"
      ],
      "metadata": {
        "id": "hfK7_3ewsnQ5"
      }
    },
    {
      "cell_type": "markdown",
      "source": [
        "training block 2:\n",
        "* Test Accuracy (top-1): 31.39%\n",
        "* Total elapsed time: 105.2 min"
      ],
      "metadata": {
        "id": "FH1_KxTEyz7H"
      }
    },
    {
      "cell_type": "markdown",
      "source": [
        "training block 3:\n",
        "* Test Accuracy (top-1): 31.73%\n",
        "* Total elapsed time: 105.2 min\n"
      ],
      "metadata": {
        "id": "oE5bHwsXlie1"
      }
    },
    {
      "cell_type": "markdown",
      "source": [
        "training block 4:\n",
        "* Test Accuracy (top-1): 31.42%\n",
        "* Total elapsed time: 106.5 min"
      ],
      "metadata": {
        "id": "nOTSoC6x_Xei"
      }
    },
    {
      "cell_type": "markdown",
      "source": [
        "training block 5:\n",
        "* Test Accuracy (top-1): 31.63%\n",
        "* Total elapsed time: 58.8 min"
      ],
      "metadata": {
        "id": "MbcydOanNb8b"
      }
    }
  ]
}