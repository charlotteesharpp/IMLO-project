{
  "nbformat": 4,
  "nbformat_minor": 0,
  "metadata": {
    "colab": {
      "provenance": [],
      "authorship_tag": "ABX9TyPjYwXNmlPlMDeDqwW0qSw7",
      "include_colab_link": true
    },
    "kernelspec": {
      "name": "python3",
      "display_name": "Python 3"
    },
    "language_info": {
      "name": "python"
    }
  },
  "cells": [
    {
      "cell_type": "markdown",
      "metadata": {
        "id": "view-in-github",
        "colab_type": "text"
      },
      "source": [
        "<a href=\"https://colab.research.google.com/github/charlotteesharpp/IMLO-project/blob/main/Project.ipynb\" target=\"_parent\"><img src=\"https://colab.research.google.com/assets/colab-badge.svg\" alt=\"Open In Colab\"/></a>"
      ]
    },
    {
      "cell_type": "code",
      "execution_count": 21,
      "metadata": {
        "id": "Q8PD_rBj7vb7"
      },
      "outputs": [],
      "source": [
        "import torch\n",
        "import torch.nn as nn\n",
        "import torch.optim as optim\n",
        "from torchvision import transforms, datasets\n",
        "from torch.utils.data import DataLoader\n",
        "import time"
      ]
    },
    {
      "cell_type": "code",
      "source": [
        "# Define the transform to preprocess the images\n",
        "train_transform = transforms.Compose([\n",
        "    transforms.Resize((224, 224)),  # Resize the images to 224x224\n",
        "    transforms.RandomHorizontalFlip(),  # Randomly flip images horizontally\n",
        "    transforms.RandomRotation(15),  # Randomly rotate images in the range (-15 degrees, +15 degrees)\n",
        "    transforms.ColorJitter(brightness=0.1, contrast=0.1, saturation=0.1, hue=0.1),  # Randomly change brightness, contrast, saturation, and hue\n",
        "    transforms.RandomCrop(224, padding=4, padding_mode='reflect'),  # Randomly crop images padded by 4 pixels on each side\n",
        "    transforms.ToTensor(),  # Convert images to PyTorch tensors\n",
        "    transforms.Normalize(mean=[0.485, 0.456, 0.406], std=[0.229, 0.224, 0.225]),  # Normalize the images\n",
        "])\n",
        "\n",
        "# Define a simpler transform for the validation/test data (no random augmentations)\n",
        "test_transform = transforms.Compose([\n",
        "    transforms.Resize((224, 224)),\n",
        "    transforms.ToTensor(),\n",
        "    transforms.Normalize(mean=[0.485, 0.456, 0.406], std=[0.229, 0.224, 0.225]),\n",
        "])\n"
      ],
      "metadata": {
        "id": "3D_6Q42Z7zyj"
      },
      "execution_count": 22,
      "outputs": []
    },
    {
      "cell_type": "code",
      "source": [
        "# Load the dataset (you will need to specify the path to your dataset)\n",
        "train_dataset = datasets.Flowers102(\n",
        "    root=\"data\",\n",
        "    split=\"train\",\n",
        "    transform=train_transform,\n",
        "    download=True,\n",
        ")\n",
        "test_dataset = datasets.Flowers102(\n",
        "    root=\"data\",\n",
        "    split=\"test\",\n",
        "    transform=test_transform,\n",
        "    download=True,\n",
        ")\n",
        "\n",
        "val_dataset = datasets.Flowers102(\n",
        "    root=\"data\",\n",
        "    split=\"val\",\n",
        "    transform=test_transform,\n",
        "    download=True,\n",
        ")\n",
        "\n",
        "# Create data loaders\n",
        "train_loader = DataLoader(train_dataset, batch_size=32, shuffle=True)\n",
        "test_loader = DataLoader(test_dataset, batch_size=32, shuffle=False)\n",
        "val_loader = DataLoader(val_dataset, batch_size=32, shuffle=False)"
      ],
      "metadata": {
        "id": "eu_EDE0kvpyK"
      },
      "execution_count": 23,
      "outputs": []
    },
    {
      "cell_type": "code",
      "source": [
        "class FlowerClassifier(nn.Module):\n",
        "    def __init__(self):\n",
        "        super(FlowerClassifier, self).__init__()\n",
        "        self.conv1 = nn.Conv2d(3, 32, kernel_size=3, padding=1)\n",
        "        self.bn1 = nn.BatchNorm2d(32)\n",
        "        self.conv2 = nn.Conv2d(32, 64, kernel_size=3, padding=1)\n",
        "        self.bn2 = nn.BatchNorm2d(64)\n",
        "        self.conv3 = nn.Conv2d(64, 128, kernel_size=3, padding=1)\n",
        "        self.bn3 = nn.BatchNorm2d(128)\n",
        "        self.pool = nn.MaxPool2d(kernel_size=2, stride=2)\n",
        "\n",
        "\n",
        "        self.fc1 = nn.Linear(128 * 14 * 14, 2048)\n",
        "        self.fc2 = nn.Linear(2048, 1024)\n",
        "        self.fc3 = nn.Linear(1024, 102)\n",
        "\n",
        "    def forward(self, x):\n",
        "        x = self.bn1(self.conv1(x))\n",
        "        x = torch.relu(x)\n",
        "        x = self.pool(x)\n",
        "\n",
        "        x = self.bn2(self.conv2(x))\n",
        "        x = torch.relu(x)\n",
        "        x = self.pool(x)\n",
        "\n",
        "        x = self.bn3(self.conv3(x))\n",
        "        x = torch.relu(x)\n",
        "        x = self.pool(x)\n",
        "\n",
        "        # Flatten the tensor for the fully connected layer\n",
        "        x = x.view(x.size(0), -1)\n",
        "\n",
        "        x = torch.relu(self.fc1(x))\n",
        "        x = torch.relu(self.fc2(x))\n",
        "        x = self.fc3(x)\n",
        "\n",
        "        return x"
      ],
      "metadata": {
        "id": "euU-U0mJ79F-"
      },
      "execution_count": 24,
      "outputs": []
    },
    {
      "cell_type": "code",
      "source": [
        "# Initialize the model, loss function, and optimizer\n",
        "model = FlowerClassifier()\n",
        "criterion = nn.CrossEntropyLoss()\n",
        "optimizer = optim.Adam(model.parameters(), lr=0.001)"
      ],
      "metadata": {
        "id": "1HjuSoaB8Ar3"
      },
      "execution_count": 25,
      "outputs": []
    },
    {
      "cell_type": "code",
      "source": [
        "def train_model(model, train_loader, optimizer, criterion, epoch):\n",
        "    model.train()\n",
        "    for batch_idx, (images, labels) in enumerate(train_loader):\n",
        "        optimizer.zero_grad()\n",
        "        outputs = model(images)\n",
        "        loss = criterion(outputs, labels)\n",
        "        loss.backward()\n",
        "        optimizer.step()\n",
        "        if batch_idx % 100 == 0:\n",
        "            print(f\"Epoch [{epoch}/{num_epochs}]: Batch [{batch_idx}/{len(train_loader)}] Loss: {loss.item():.4f}\")\n",
        "\n",
        "def validate_model(model, val_loader, criterion):\n",
        "    model.eval()\n",
        "    val_loss = 0.0\n",
        "    with torch.no_grad():\n",
        "        for val_images, val_labels in val_loader:\n",
        "            val_outputs = model(val_images)\n",
        "            val_loss += criterion(val_outputs, val_labels).item()\n",
        "    return val_loss\n",
        "\n",
        "def test_model(model, test_loader):\n",
        "    model.eval()\n",
        "    correct = 0\n",
        "    total = 0\n",
        "    with torch.no_grad():\n",
        "        for test_images, test_labels in test_loader:\n",
        "            test_outputs = model(test_images)\n",
        "            _, predicted = torch.max(test_outputs, 1)\n",
        "            total += test_labels.size(0)\n",
        "            correct += (predicted == test_labels).sum().item()\n",
        "    accuracy = correct / total\n",
        "    return accuracy"
      ],
      "metadata": {
        "id": "QedQ7Koo8Ggk"
      },
      "execution_count": 26,
      "outputs": []
    },
    {
      "cell_type": "code",
      "source": [
        "num_epochs = 15\n",
        "start_time = time.time()\n",
        "\n",
        "for epoch in range(num_epochs):\n",
        "        train_model(model, train_loader, optimizer, criterion, epoch)\n",
        "        if epoch % 5 == 0:\n",
        "            val_loss = validate_model(model, val_loader, criterion)\n",
        "            print(f\"Validation Loss at Epoch {epoch}: {val_loss:.4f}\")\n",
        "\n",
        "test_accuracy = test_model(model, test_loader)\n",
        "print(f\"Test Accuracy (top-1): {100 * test_accuracy:.2f}%\")\n",
        "print(f\"Finished Training. Total elapsed time: {round((time.time() - start_time) / 60, 1)} min\")"
      ],
      "metadata": {
        "id": "h9FSBxv58puc",
        "colab": {
          "base_uri": "https://localhost:8080/"
        },
        "outputId": "04997d4e-cd7c-477d-95a0-1b5d31d1b214"
      },
      "execution_count": 27,
      "outputs": [
        {
          "output_type": "stream",
          "name": "stdout",
          "text": [
            "Epoch [0/15]: Batch [0/32] Loss: 4.6280\n",
            "Validation Loss at Epoch 0: 148.0071\n",
            "Epoch [1/15]: Batch [0/32] Loss: 4.6228\n",
            "Epoch [2/15]: Batch [0/32] Loss: 4.6297\n",
            "Epoch [3/15]: Batch [0/32] Loss: 4.6257\n",
            "Epoch [4/15]: Batch [0/32] Loss: 4.6331\n",
            "Epoch [5/15]: Batch [0/32] Loss: 4.6188\n",
            "Validation Loss at Epoch 5: 148.0064\n",
            "Epoch [6/15]: Batch [0/32] Loss: 4.6281\n",
            "Epoch [7/15]: Batch [0/32] Loss: 4.6263\n",
            "Epoch [8/15]: Batch [0/32] Loss: 4.6296\n",
            "Epoch [9/15]: Batch [0/32] Loss: 4.6308\n",
            "Epoch [10/15]: Batch [0/32] Loss: 4.6249\n",
            "Validation Loss at Epoch 10: 148.0049\n",
            "Epoch [11/15]: Batch [0/32] Loss: 4.6301\n",
            "Epoch [12/15]: Batch [0/32] Loss: 4.6145\n",
            "Epoch [13/15]: Batch [0/32] Loss: 4.6272\n",
            "Epoch [14/15]: Batch [0/32] Loss: 4.6250\n",
            "Test Accuracy (top-1): 0.76%\n",
            "Finished Training. Total elapsed time: 67.0 min\n"
          ]
        }
      ]
    },
    {
      "cell_type": "code",
      "source": [
        "torch.save(model.state_dict(), \"model.pth\")\n",
        "print(\"Saved PyTorch Model State to path\")"
      ],
      "metadata": {
        "colab": {
          "base_uri": "https://localhost:8080/"
        },
        "id": "hUJfTageGdzq",
        "outputId": "3ea81321-54f4-4d98-ab8c-07b618c31892"
      },
      "execution_count": 29,
      "outputs": [
        {
          "output_type": "stream",
          "name": "stdout",
          "text": [
            "Saved PyTorch Model State to path\n"
          ]
        }
      ]
    }
  ]
}